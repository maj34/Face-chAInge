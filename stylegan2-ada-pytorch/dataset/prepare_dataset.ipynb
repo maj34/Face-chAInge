{
 "cells": [
  {
   "cell_type": "code",
   "execution_count": null,
   "metadata": {},
   "outputs": [],
   "source": [
    "from os import listdir\n",
    "from os.path import isfile, join\n",
    "import os\n",
    "from PIL import Image\n",
    "import PIL\n",
    "from tqdm.notebook import tqdm\n",
    "import shutil \n",
    "\n",
    "!mkdir flattendata\n",
    "!mkdir dataset\n",
    "\n",
    "# make dataset - tarball-lite\n",
    "!mkdir ./data \n",
    "!git clone https://github.com/afad-dataset/tarball-lite.git\n",
    "%cd /content/tarball-lite\n",
    "!cat AFAD-Lite.tar.xz* > AFAD-Lite.tar.xz\n",
    "!tar -xvf AFAD-Lite.tar.xz -C /content/data\n",
    "%cd -\n",
    "\n",
    "# make dataset All-Age-Faces\n",
    "!wget -O Dataset.zip https://www.dropbox.com/s/a0lj1ddd54ns8qy/All-Age-Faces Dataset.zip?dl=0\n",
    "!unzip -qq 'Dataset.zip' -d /content/data\n",
    "\n",
    "!git clone https://github.com/NVlabs/stylegan2-ada-pytorch.git\n",
    "#!pip install ninja==1.10.2.2\n",
    "\n",
    "orgpath = './data/All-Age-Faces Dataset/original images'\n",
    "tarpath = './flattendata'\n",
    "for path in os.listdir(orgpath):\n",
    "    age = int(path.split('.')[0][-2:])\n",
    "    if  (age > 40) or (5 < age < 18) :\n",
    "        src = os.path.join(orgpath, path)\n",
    "        image = PIL.Image.open(src)\n",
    "        resized_image = image.resize((256,256))\n",
    "        resized_image.save(os.path.join(tarpath, path))\n",
    "\n",
    "def flatten_data(destination):\n",
    "    paths = []\n",
    "    for p in os.walk('/content/data/AFAD-Lite'):\n",
    "        if len(p[2]) != 0:\n",
    "            if 'jpg' in p[2][0]:\n",
    "                for path in p[2]:\n",
    "                    image_path = os.path.join(p[0], path)\n",
    "                    paths.append(image_path)\n",
    "\n",
    "    for image_path in tqdm(paths):\n",
    "        image = PIL.Image.open(image_path)\n",
    "        resized_image = image.resize((256,256))\n",
    "        resized_image.save(os.path.join(destination, image_path.split('/')[-1]))\n",
    "\n",
    "flatten_data(tarpath)\n",
    "\n",
    "!python /content/stylegan2-ada-pytorch/dataset_tool.py --source /content/flattendata --dest /content/dataset"
   ]
  }
 ],
 "metadata": {
  "kernelspec": {
   "display_name": "Python 3",
   "language": "python",
   "name": "python3"
  },
  "language_info": {
   "codemirror_mode": {
    "name": "ipython",
    "version": 3
   },
   "file_extension": ".py",
   "mimetype": "text/x-python",
   "name": "python",
   "nbconvert_exporter": "python",
   "pygments_lexer": "ipython3",
   "version": "3.7.7"
  }
 },
 "nbformat": 4,
 "nbformat_minor": 4
}
